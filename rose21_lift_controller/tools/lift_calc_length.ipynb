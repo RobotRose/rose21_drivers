{
 "metadata": {
  "name": "lift L"
 }, 
 "nbformat": 2, 
 "worksheets": [
  {
   "cells": [
    {
     "cell_type": "code", 
     "collapsed": true, 
     "input": [
      "from math import *"
     ], 
     "language": "python", 
     "outputs": [], 
     "prompt_number": 41
    }, 
    {
     "cell_type": "code", 
     "collapsed": true, 
     "input": [
      "def calcL(deg):", 
      "    angle = radians(deg)", 
      "    b = 0.445467", 
      "    D = 0.118338", 
      "    L = sqrt(-2*b*D*cos(angle)+D**2*sin(angle)**2+D**2*cos(angle)**2+b**2)", 
      "    return L", 
      "    "
     ], 
     "language": "python", 
     "outputs": [], 
     "prompt_number": 42
    }, 
    {
     "cell_type": "code", 
     "collapsed": false, 
     "input": [
      "", 
      "correction = 1.4 #degrees", 
      "fixed_angle = 120 #degrees", 
      "angles = [60, 52, 45, 38, 32]", 
      "sensor_values = [999, 1376, 1752, 2125, 2504]", 
      "angles_corrected = [angle - fixed_angle + correction for angle in angles]", 
      "lengths = map(calcL, angles_corrected)", 
      "print lengths", 
      "print sensor_values", 
      "", 
      "for l, s in zip(lengths, sensor_values):", 
      "    print \" - [{0}, {1}]\".format(l,s)"
     ], 
     "language": "python", 
     "outputs": [
      {
       "output_type": "stream", 
       "stream": "stdout", 
       "text": [
        "[0.39688031279913005, 0.41300471303647374, 0.4274074052104536, 0.4418427933335261, 0.45408367008753037]", 
        "[999, 1376, 1752, 2125, 2504]", 
        " - [0.396880312799, 999]", 
        " - [0.413004713036, 1376]", 
        " - [0.42740740521, 1752]", 
        " - [0.441842793334, 2125]", 
        " - [0.454083670088, 2504]"
       ]
      }
     ], 
     "prompt_number": 45
    }
   ]
  }
 ]
}