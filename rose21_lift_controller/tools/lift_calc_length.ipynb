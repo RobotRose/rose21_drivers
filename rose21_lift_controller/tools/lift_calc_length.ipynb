{
 "cells": [
  {
   "cell_type": "code",
   "execution_count": 41,
   "metadata": {
    "collapsed": true
   },
   "outputs": [],
   "source": [
    "from math import *"
   ]
  },
  {
   "cell_type": "code",
   "execution_count": 42,
   "metadata": {
    "collapsed": true
   },
   "outputs": [],
   "source": [
    "def calcL(deg):\n",
    "    angle = radians(deg)\n",
    "    b = 0.445467\n",
    "    D = 0.118338\n",
    "    L = sqrt(-2*b*D*cos(angle)+D**2*sin(angle)**2+D**2*cos(angle)**2+b**2)\n",
    "    return L\n",
    "    "
   ]
  },
  {
   "cell_type": "code",
   "execution_count": 45,
   "metadata": {
    "collapsed": false
   },
   "outputs": [
    {
     "name": "stdout",
     "output_type": "stream",
     "text": [
      "[0.39688031279913005, 0.41300471303647374, 0.4274074052104536, 0.4418427933335261, 0.45408367008753037]\n",
      "[999, 1376, 1752, 2125, 2504]\n",
      " - [0.396880312799, 999]\n",
      " - [0.413004713036, 1376]\n",
      " - [0.42740740521, 1752]\n",
      " - [0.441842793334, 2125]\n",
      " - [0.454083670088, 2504]"
     ]
    }
   ],
   "source": [
    "\n",
    "correction = 1.4 #degrees\n",
    "fixed_angle = 120 #degrees\n",
    "angles = [60, 52, 45, 38, 32]\n",
    "sensor_values = [999, 1376, 1752, 2125, 2504]\n",
    "angles_corrected = [angle - fixed_angle + correction for angle in angles]\n",
    "lengths = map(calcL, angles_corrected)\n",
    "print lengths\n",
    "print sensor_values\n",
    "\n",
    "for l, s in zip(lengths, sensor_values):\n",
    "    print \" - [{0}, {1}]\".format(l,s)"
   ]
  }
 ],
 "metadata": {
  "kernelspec": {
   "display_name": "Python 2",
   "language": "python",
   "name": "python2"
  },
  "language_info": {
   "codemirror_mode": {
    "name": "ipython",
    "version": 2
   },
   "file_extension": ".py",
   "mimetype": "text/x-python",
   "name": "python",
   "nbconvert_exporter": "python",
   "pygments_lexer": "ipython2",
   "version": "2.7.3"
  }
 },
 "nbformat": 4,
 "nbformat_minor": 0
}
