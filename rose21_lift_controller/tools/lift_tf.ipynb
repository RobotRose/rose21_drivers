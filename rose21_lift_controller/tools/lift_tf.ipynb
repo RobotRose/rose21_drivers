{
 "cells": [
  {
   "cell_type": "code",
   "execution_count": 48,
   "metadata": {
    "collapsed": true
   },
   "outputs": [],
   "source": [
    "from math import *\n",
    "\n",
    "def interpolation(measurement):\n",
    "    y1 = 0.3189\n",
    "    y2 = 0.3339\n",
    "    x1 = 1002\n",
    "    x2 = 1372\n",
    "    dx = x2-x1\n",
    "    dy = y2-y1\n",
    "    a = dy/dx\n",
    "    b = a*x1 + y1\n",
    "    inter = a*measurement + b\n",
    "    print \"a: {0}\".format(a)\n",
    "    print \"b: {0}\".format(b)\n",
    "    return inter"
   ]
  },
  {
   "cell_type": "code",
   "execution_count": 49,
   "metadata": {
    "collapsed": false
   },
   "outputs": [
    {
     "name": "stdout",
     "output_type": "stream",
     "text": [
      "a: 4.05405405405e-05\n",
      "b: 0.359521621622\n",
      "0.430954054054"
     ]
    }
   ],
   "source": [
    "print interpolation(1762)"
   ]
  }
 ],
 "metadata": {
  "kernelspec": {
   "display_name": "Python 2",
   "language": "python",
   "name": "python2"
  },
  "language_info": {
   "codemirror_mode": {
    "name": "ipython",
    "version": 2
   },
   "file_extension": ".py",
   "mimetype": "text/x-python",
   "name": "python",
   "nbconvert_exporter": "python",
   "pygments_lexer": "ipython2",
   "version": "2.7.3"
  }
 },
 "nbformat": 4,
 "nbformat_minor": 0
}
