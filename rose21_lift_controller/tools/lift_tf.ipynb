{
 "metadata": {
  "name": "lift_tf"
 }, 
 "nbformat": 2, 
 "worksheets": [
  {
   "cells": [
    {
     "cell_type": "code", 
     "collapsed": true, 
     "input": [
      "from math import *", 
      "", 
      "def interpolation(measurement):", 
      "    y1 = 0.3189", 
      "    y2 = 0.3339", 
      "    x1 = 1002", 
      "    x2 = 1372", 
      "    dx = x2-x1", 
      "    dy = y2-y1", 
      "    a = dy/dx", 
      "    b = a*x1 + y1", 
      "    inter = a*measurement + b", 
      "    print \"a: {0}\".format(a)", 
      "    print \"b: {0}\".format(b)", 
      "    return inter"
     ], 
     "language": "python", 
     "outputs": [], 
     "prompt_number": 48
    }, 
    {
     "cell_type": "code", 
     "collapsed": false, 
     "input": [
      "print interpolation(1762)"
     ], 
     "language": "python", 
     "outputs": [
      {
       "output_type": "stream", 
       "stream": "stdout", 
       "text": [
        "a: 4.05405405405e-05", 
        "b: 0.359521621622", 
        "0.430954054054"
       ]
      }
     ], 
     "prompt_number": 49
    }
   ]
  }
 ]
}